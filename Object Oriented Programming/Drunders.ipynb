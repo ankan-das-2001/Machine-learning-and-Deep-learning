{
 "cells": [
  {
   "cell_type": "markdown",
   "id": "33e71b93",
   "metadata": {},
   "source": [
    "# Implementing cout in Python\n"
   ]
  },
  {
   "cell_type": "code",
   "execution_count": 10,
   "id": "ba5caa8a",
   "metadata": {},
   "outputs": [],
   "source": [
    "class ostream:\n",
    "    def __lshift__(self,other):\n",
    "        if other==\"endl\":\n",
    "            print()\n",
    "            return self\n",
    "        print(other,end=\"\")\n",
    "        return self\n"
   ]
  },
  {
   "cell_type": "code",
   "execution_count": 14,
   "id": "27514e8b",
   "metadata": {},
   "outputs": [],
   "source": [
    "cout = ostream()\n",
    "endl=\"endl\""
   ]
  },
  {
   "cell_type": "code",
   "execution_count": 16,
   "id": "69306e35",
   "metadata": {},
   "outputs": [
    {
     "name": "stdout",
     "output_type": "stream",
     "text": [
      "Ankan\n",
      "\n",
      "Das"
     ]
    }
   ],
   "source": [
    "cout<<\"Ankan\"<<endl<<\"Das\";"
   ]
  },
  {
   "cell_type": "code",
   "execution_count": null,
   "id": "c68baca7",
   "metadata": {},
   "outputs": [],
   "source": []
  }
 ],
 "metadata": {
  "kernelspec": {
   "display_name": "Python 3 (ipykernel)",
   "language": "python",
   "name": "python3"
  },
  "language_info": {
   "codemirror_mode": {
    "name": "ipython",
    "version": 3
   },
   "file_extension": ".py",
   "mimetype": "text/x-python",
   "name": "python",
   "nbconvert_exporter": "python",
   "pygments_lexer": "ipython3",
   "version": "3.8.10"
  }
 },
 "nbformat": 4,
 "nbformat_minor": 5
}
