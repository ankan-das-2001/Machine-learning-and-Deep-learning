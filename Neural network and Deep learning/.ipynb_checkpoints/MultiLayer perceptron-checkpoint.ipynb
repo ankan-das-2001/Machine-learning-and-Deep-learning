{
 "cells": [
  {
   "cell_type": "markdown",
   "id": "fad02ede",
   "metadata": {},
   "source": [
    "# Implementing 3 layer neural network architecture\n"
   ]
  },
  {
   "cell_type": "code",
   "execution_count": 1,
   "id": "a0db8f49",
   "metadata": {},
   "outputs": [],
   "source": [
    "import numpy as np"
   ]
  },
  {
   "cell_type": "code",
   "execution_count": 2,
   "id": "2a01ebc4",
   "metadata": {},
   "outputs": [],
   "source": [
    "# Model parameters\n",
    "input_size = 2\n",
    "layers = [4,3]\n",
    "output_size = 2"
   ]
  },
  {
   "cell_type": "code",
   "execution_count": 3,
   "id": "76f36113",
   "metadata": {},
   "outputs": [],
   "source": [
    "class NeuralNetwork:\n",
    "    def __init__(self, input_size, layers, output_size):\n",
    "        np.random.seed(0)\n",
    "        \n",
    "        model = {}  #dictionary\n",
    "        \n",
    "        model['W1'] = np.random.randn(input_size, layers[0])  # Initialises random weight matrix\n",
    "        model['b1'] = np.zeros((1, layers[0]))\n",
    "        \n",
    "        model['W2'] = np.random.randn(layers[0], layers[1])  # Initialises random weight matrix\n",
    "        model['b2'] = np.zeros((1, layers[1]))\n",
    "        \n",
    "        model['W3'] = np.random.randn(layers[1], output_size)  # Initialises random weight matrix\n",
    "        model['b3'] = np.zeros((1, output_size))\n",
    "        \n",
    "        self.model = model\n",
    "    \n",
    "    def softmax(a):\n",
    "        e_pa = np.exp(a)\n",
    "        ans = e_pa/np.sum(e_pa, axis=1, keepdims=True)\n",
    "        return ans\n",
    "    \n",
    "    def forward(self, X):\n",
    "        W1,W2,W3 = self.model['W1'], self.model['W2'], self.model['W3']\n",
    "        b1,b2,b3 = self.model['b1'], self.model['b2'], self.model['b3']\n",
    "        \n",
    "        z1 = np.dot(x, W1) + b1\n",
    "        a1 = np.tanh(z1)\n",
    "        \n",
    "        z2 = np.dot(a1,W2) + b2\n",
    "        a2 = np.tanh(z2)\n",
    "        \n",
    "        z3 = np.dot(a2,W3) + b3\n",
    "        y_ = self.softmax(z3)\n",
    "        self.activation_outputs = (a1,a2,y_)\n",
    "        \n",
    "    def backward(self, x,y,learning_rate=0.001):\n",
    "        W1,W2,W3 = self.model['W1'], self.model['W2'], self.model['W3']\n",
    "        b1,b2,b3 = self.model['b1'], self.model['b2'], self.model['b3']\n",
    "        \n",
    "        delta3 = y_ - y\n",
    "        \n",
    "        m = x.shape[0]\n",
    "        dw3 = np.dot(a2.T, delta3)\n",
    "        db3 = np.sum(delta3, axis=0)/float(m)\n",
    "        \n",
    "        delta2 = (1-np.square(a2))*np.dot(delta3, W3.T)\n",
    "        dw2 = np.dot(a1.T, delta2)\n",
    "        db2 = np.sum(dealta,axis=0)/float(m)\n",
    "        \n",
    "        delta1 = (1-np.square(a1))*np.dot(delta2,W2.T)\n",
    "        dw1 = np.dot(X.T, delta1)\n",
    "        db1 = np.sum(delta1, axis = 0)/(float(m))\n",
    "        \n",
    "        #update the model parameters using gradient descent\n",
    "        self.model['W1'] -=learning_rate*dw1\n",
    "        self.model['b1'] -= learning_rate*db1\n",
    "        \n",
    "        self.model['W2'] -=learning_rate*dw2\n",
    "        self.model['b2'] -= learning_rate*db2\n",
    "        \n",
    "        self.model['W3'] -=learning_rate*dw3\n",
    "        self.model['b3'] -= learning_rate*db3\n",
    "        \n",
    "    def predict(self, X):\n",
    "        y_out = self.forward(X)\n",
    "        return np.argmax(y_out, axis = 1)\n",
    "    \n",
    "    def summary(self):\n",
    "        W1,W2,W3 = self.model['W1'], self.model['W2'], self.model['W3']"
   ]
  },
  {
   "cell_type": "code",
   "execution_count": null,
   "id": "520ae53e",
   "metadata": {},
   "outputs": [],
   "source": []
  }
 ],
 "metadata": {
  "kernelspec": {
   "display_name": "Python 3 (ipykernel)",
   "language": "python",
   "name": "python3"
  },
  "language_info": {
   "codemirror_mode": {
    "name": "ipython",
    "version": 3
   },
   "file_extension": ".py",
   "mimetype": "text/x-python",
   "name": "python",
   "nbconvert_exporter": "python",
   "pygments_lexer": "ipython3",
   "version": "3.8.10"
  }
 },
 "nbformat": 4,
 "nbformat_minor": 5
}
