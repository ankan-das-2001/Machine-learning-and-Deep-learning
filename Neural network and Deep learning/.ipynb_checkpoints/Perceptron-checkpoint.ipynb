{
 "cells": [
  {
   "cell_type": "markdown",
   "id": "08c2233a",
   "metadata": {},
   "source": [
    "# Implementing perceptron"
   ]
  },
  {
   "cell_type": "code",
   "execution_count": 165,
   "id": "47456095",
   "metadata": {},
   "outputs": [],
   "source": [
    "import numpy as np\n",
    "import matplotlib.pyplot as plt\n",
    "from sklearn.datasets import make_blobs, make_moons\n"
   ]
  },
  {
   "cell_type": "code",
   "execution_count": 180,
   "id": "c489731b",
   "metadata": {},
   "outputs": [
    {
     "name": "stdout",
     "output_type": "stream",
     "text": [
      "(500, 2) (500,)\n"
     ]
    }
   ],
   "source": [
    "# Generating data\n",
    "\n",
    "X, y = make_blobs(n_samples=500, centers=2, n_features=2, random_state = 10)\n",
    "print(X.shape, y.shape)\n",
    "# non-linear data\n",
    "# X, y = make_moons(n_samples=1000, noise = 0.1,random_state = 1)\n",
    "# print(X.shape, y.shape)"
   ]
  },
  {
   "cell_type": "code",
   "execution_count": 181,
   "id": "1fb2c84c",
   "metadata": {},
   "outputs": [
    {
     "data": {
      "text/plain": [
       "<matplotlib.collections.PathCollection at 0x7f90ae23df40>"
      ]
     },
     "execution_count": 181,
     "metadata": {},
     "output_type": "execute_result"
    },
    {
     "data": {
      "image/png": "[encoded data removed]",
      "text/plain": [
       "<Figure size 432x288 with 1 Axes>"
      ]
     },
     "metadata": {
      "needs_background": "light"
     },
     "output_type": "display_data"
    }
   ],
   "source": [
    "plt.scatter(X[:,0], X[:,1], c=y)\n"
   ]
  },
  {
   "cell_type": "code",
   "execution_count": 182,
   "id": "eaa601ba",
   "metadata": {},
   "outputs": [],
   "source": [
    "# Model and helper function\n",
    "\n",
    "def sigmoid(z):\n",
    "    return (1.0)/(1+np.exp(-z))"
   ]
  },
  {
   "cell_type": "code",
   "execution_count": 183,
   "id": "23b73923",
   "metadata": {},
   "outputs": [
    {
     "name": "stdout",
     "output_type": "stream",
     "text": [
      "[0.73105858 0.88079708 0.98201379 0.99330715 0.99752738]\n"
     ]
    }
   ],
   "source": [
    "z = np.array([1,2,4,5,6])\n",
    "print(sigmoid(z))"
   ]
  },
  {
   "cell_type": "markdown",
   "id": "52658f0b",
   "metadata": {},
   "source": [
    "# implement perceptron learning algorithm\n",
    " - Learn the weights\n",
    " - Reduce the loss\n",
    " - Make the predictions"
   ]
  },
  {
   "cell_type": "code",
   "execution_count": 184,
   "id": "24d39a4d",
   "metadata": {},
   "outputs": [],
   "source": [
    "def predict(X, weights):\n",
    "    z = np.dot(X,weights)\n",
    "    predictions = sigmoid(z)\n",
    "    return predictions\n",
    "\n",
    "def loss(X,Y, weights):\n",
    "    \"\"\"Binary cross entropy loss(negative of log loss value)\"\"\"\n",
    "    Y_ = predict(X, weights)\n",
    "    cost = np.mean(-Y*np.log(Y_) - (1-Y)*np.log(1-Y_))\n",
    "    return cost\n",
    "\n",
    "def update(X,Y,weights,learning_rate):\n",
    "    \"\"\"Perform weight update for 1 epoch\"\"\"\n",
    "    Y_ = predict(X,weights)\n",
    "    dw = np.dot(X.T, Y_-Y)\n",
    "    \n",
    "    m = X.shape[0]\n",
    "    weights =weights - learning_rate*dw/(float(m))\n",
    "    return weights\n",
    "def train(X,Y,learning_rate = 0.5, maxEpochs=100):\n",
    "    \n",
    "    #Modify the input to handle the bias term\n",
    "    ones = np.ones((X.shape[0],1))\n",
    "    X = np.hstack((ones, X))\n",
    "    \n",
    "    #Init weights 0\n",
    "    weights = np.zeros(X.shape[1])\n",
    "    \n",
    "    # Iterate over all epochs and make updates\n",
    "     \n",
    "    for epoch in range(maxEpochs):\n",
    "        weights = update(X,Y,weights, learning_rate)\n",
    "        \n",
    "        if epoch%100==0:\n",
    "            l = loss(X,Y,weights)\n",
    "            print(\"epoch %d loss %.5f\"%(epoch,l))\n",
    "            \n",
    "    return weights"
   ]
  },
  {
   "cell_type": "code",
   "execution_count": 185,
   "id": "375cbd5a",
   "metadata": {},
   "outputs": [
    {
     "name": "stdout",
     "output_type": "stream",
     "text": [
      "epoch 0 loss 0.00057\n",
      "epoch 100 loss 0.00035\n",
      "epoch 200 loss 0.00026\n",
      "epoch 300 loss 0.00020\n",
      "epoch 400 loss 0.00017\n",
      "epoch 500 loss 0.00014\n",
      "epoch 600 loss 0.00013\n"
     ]
    }
   ],
   "source": [
    "weights = train(X,y,maxEpochs=700)"
   ]
  },
  {
   "cell_type": "code",
   "execution_count": 186,
   "id": "b1f26ad3",
   "metadata": {},
   "outputs": [],
   "source": [
    "def getPrediction(X_Test, weights,label=False):\n",
    "    # Checking the bias term for W0\n",
    "    if X_Test.shape[1] != weights.shape[0]:\n",
    "        ones = np.ones((X_Test.shape[0],1))\n",
    "        X_Test = np.hstack((ones,X_Test))\n",
    "    probs = predict(X_Test,weights)\n",
    "    \n",
    "    if not label:\n",
    "        return probs\n",
    "    else:\n",
    "        labels = np.zeros(probs.shape)\n",
    "        labels[probs>=0.5] = 1\n",
    "        return labels"
   ]
  },
  {
   "cell_type": "code",
   "execution_count": 187,
   "id": "3591bf4a",
   "metadata": {},
   "outputs": [],
   "source": [
    "x1 = np.linspace(-2,2,10)\n",
    "x2 = -(weights[0]+weights[1]*x1)/weights[2]\n",
    "\n",
    "# getPrediction(X,weights,True)"
   ]
  },
  {
   "cell_type": "code",
   "execution_count": 188,
   "id": "2a95444c",
   "metadata": {},
   "outputs": [
    {
     "data": {
      "image/png": "[encoded data removed]",
      "text/plain": [
       "<Figure size 432x288 with 1 Axes>"
      ]
     },
     "metadata": {
      "needs_background": "light"
     },
     "output_type": "display_data"
    }
   ],
   "source": [
    "plt.scatter(X[:,0],X[:,1], c=y)\n",
    "plt.plot(x1,x2)\n",
    "plt.show()"
   ]
  },
  {
   "cell_type": "code",
   "execution_count": 189,
   "id": "195967a8",
   "metadata": {},
   "outputs": [],
   "source": [
    "# Finding the accuracy of the problem\n",
    "Y_ = getPrediction(X,weights, True)"
   ]
  },
  {
   "cell_type": "code",
   "execution_count": 178,
   "id": "bdf0bec1",
   "metadata": {
    "scrolled": true
   },
   "outputs": [
    {
     "data": {
      "text/plain": [
       "array([0., 1., 0., 0., 0., 1., 0., 1., 0., 1., 0., 0., 1., 0., 1., 0., 0.,\n",
       "       1., 1., 1., 1., 0., 1., 0., 0., 0., 0., 1., 1., 0., 1., 1., 1., 0.,\n",
       "       0., 0., 1., 1., 1., 1., 1., 1., 0., 0., 0., 1., 0., 0., 0., 1., 1.,\n",
       "       1., 1., 1., 0., 0., 1., 1., 0., 1., 0., 0., 0., 1., 1., 1., 0., 1.,\n",
       "       1., 1., 1., 0., 0., 1., 0., 0., 0., 1., 0., 1., 0., 1., 1., 1., 1.,\n",
       "       1., 0., 1., 1., 0., 1., 0., 0., 1., 0., 1., 0., 1., 0., 0., 0., 1.,\n",
       "       1., 0., 0., 1., 0., 0., 0., 1., 0., 1., 1., 1., 1., 0., 1., 0., 0.,\n",
       "       1., 0., 0., 1., 0., 0., 1., 1., 1., 1., 1., 0., 0., 1., 1., 1., 1.,\n",
       "       1., 1., 0., 1., 0., 0., 1., 0., 0., 0., 0., 1., 0., 1., 0., 1., 1.,\n",
       "       0., 0., 1., 1., 1., 0., 0., 0., 0., 0., 1., 1., 0., 0., 1., 1., 0.,\n",
       "       0., 0., 0., 0., 1., 0., 0., 0., 1., 1., 0., 0., 1., 1., 0., 0., 0.,\n",
       "       0., 1., 1., 1., 1., 0., 1., 1., 0., 1., 0., 1., 0., 0., 1., 1., 1.,\n",
       "       0., 1., 1., 0., 0., 1., 1., 0., 1., 0., 1., 0., 0., 0., 1., 0., 0.,\n",
       "       1., 0., 1., 1., 1., 0., 1., 1., 1., 0., 0., 1., 0., 1., 1., 0., 1.,\n",
       "       0., 1., 1., 0., 0., 1., 1., 0., 1., 0., 0., 0., 0., 0., 0., 1., 0.,\n",
       "       1., 1., 1., 1., 0., 0., 1., 0., 1., 1., 0., 0., 0., 0., 0., 0., 1.,\n",
       "       1., 0., 1., 1., 1., 1., 1., 0., 1., 1., 0., 0., 0., 0., 1., 0., 0.,\n",
       "       1., 1., 0., 0., 1., 1., 0., 0., 1., 0., 0., 1., 1., 1., 1., 1., 0.,\n",
       "       1., 0., 1., 1., 1., 0., 1., 1., 1., 1., 0., 0., 0., 1., 1., 0., 0.,\n",
       "       0., 1., 1., 0., 0., 0., 1., 0., 1., 1., 0., 1., 1., 0., 0., 0., 1.,\n",
       "       1., 1., 0., 1., 1., 0., 0., 0., 0., 1., 0., 0., 1., 1., 0., 1., 0.,\n",
       "       0., 1., 1., 0., 0., 0., 0., 1., 0., 0., 0., 0., 1., 1., 0., 0., 0.,\n",
       "       1., 0., 1., 1., 1., 0., 1., 0., 1., 1., 1., 1., 0., 0., 0., 1., 1.,\n",
       "       1., 0., 0., 0., 0., 0., 0., 1., 1., 0., 1., 0., 1., 0., 1., 1., 1.,\n",
       "       0., 0., 1., 1., 0., 0., 0., 1., 0., 1., 1., 1., 1., 1., 0., 0., 1.,\n",
       "       0., 0., 1., 1., 0., 1., 0., 1., 0., 1., 1., 0., 1., 1., 1., 0., 0.,\n",
       "       1., 1., 1., 1., 0., 0., 0., 1., 1., 0., 1., 1., 0., 1., 1., 1., 1.,\n",
       "       1., 0., 0., 0., 1., 1., 1., 0., 1., 0., 1., 0., 0., 1., 1., 1., 1.,\n",
       "       0., 0., 1., 1., 0., 0., 0., 1., 0., 0., 0., 0., 0., 0., 0., 0., 0.,\n",
       "       1., 0., 0., 1., 1., 0., 1., 1., 0., 1., 1., 0., 0., 0., 1., 1., 1.,\n",
       "       0., 1., 0., 0., 1., 1., 1., 0., 0., 0., 1., 0., 0., 0., 0., 0., 1.,\n",
       "       1., 1., 0., 1., 0., 0., 1., 0., 1., 0., 1., 1., 0., 0., 0., 0., 0.,\n",
       "       0., 0., 0., 1., 0., 1., 1., 1., 1., 1., 1., 1., 1., 1., 0., 0., 1.,\n",
       "       0., 0., 0., 1., 1., 1., 0., 0., 0., 0., 0., 0., 1., 1., 0., 1., 0.,\n",
       "       0., 0., 0., 0., 0., 0., 0., 1., 1., 0., 1., 0., 0., 0., 1., 1., 0.,\n",
       "       1., 0., 0., 1., 0., 0., 0., 1., 1., 0., 0., 0., 0., 1., 0., 0., 1.,\n",
       "       0., 1., 0., 0., 0., 0., 1., 0., 1., 0., 1., 1., 0., 1., 0., 1., 1.,\n",
       "       1., 0., 1., 0., 1., 1., 1., 1., 1., 1., 1., 0., 1., 1., 1., 0., 1.,\n",
       "       0., 1., 0., 0., 0., 1., 1., 1., 0., 1., 1., 0., 0., 0., 0., 1., 0.,\n",
       "       1., 0., 1., 1., 1., 1., 0., 0., 0., 1., 1., 1., 0., 0., 0., 0., 0.,\n",
       "       0., 0., 0., 1., 0., 0., 0., 1., 0., 1., 0., 0., 0., 1., 0., 1., 1.,\n",
       "       0., 0., 1., 0., 0., 1., 1., 1., 0., 0., 0., 0., 0., 0., 0., 0., 1.,\n",
       "       1., 1., 1., 0., 1., 1., 0., 1., 1., 1., 1., 0., 1., 1., 0., 0., 0.,\n",
       "       1., 1., 0., 1., 1., 1., 0., 0., 0., 1., 0., 1., 0., 1., 0., 1., 0.,\n",
       "       1., 1., 1., 0., 1., 1., 0., 0., 0., 0., 1., 0., 1., 0., 1., 1., 1.,\n",
       "       0., 1., 1., 1., 0., 0., 0., 1., 0., 0., 1., 0., 0., 1., 0., 1., 0.,\n",
       "       0., 0., 1., 0., 1., 1., 0., 1., 0., 1., 1., 0., 0., 0., 0., 0., 0.,\n",
       "       1., 1., 1., 1., 0., 1., 1., 1., 0., 1., 0., 0., 1., 1., 0., 0., 1.,\n",
       "       1., 1., 1., 1., 0., 0., 1., 1., 0., 0., 1., 1., 0., 0., 1., 0., 0.,\n",
       "       1., 1., 0., 1., 1., 0., 0., 0., 1., 1., 0., 1., 0., 0., 0., 1., 0.,\n",
       "       1., 0., 1., 1., 1., 0., 0., 0., 1., 1., 1., 1., 1., 0., 1., 0., 1.,\n",
       "       0., 0., 1., 0., 0., 1., 0., 1., 0., 1., 0., 1., 1., 0., 0., 1., 1.,\n",
       "       0., 0., 1., 0., 1., 0., 0., 1., 0., 0., 1., 0., 1., 1., 1., 1., 0.,\n",
       "       0., 1., 0., 1., 1., 0., 0., 0., 0., 0., 1., 1., 1., 1., 1., 0., 1.,\n",
       "       0., 1., 0., 1., 0., 0., 1., 0., 0., 1., 1., 0., 1., 1., 1., 1., 0.,\n",
       "       1., 0., 1., 0., 1., 0., 0., 0., 0., 0., 1., 0., 1., 1., 1., 0., 0.,\n",
       "       0., 1., 0., 0., 0., 1., 0., 1., 0., 0., 0., 1., 0., 0., 1., 0., 1.,\n",
       "       1., 0., 1., 1., 0., 0., 1., 0., 1., 0., 0., 0., 0., 0., 0., 0., 1.,\n",
       "       1., 1., 0., 0., 1., 1., 1., 1., 1., 1., 0., 1., 0., 1.])"
      ]
     },
     "execution_count": 178,
     "metadata": {},
     "output_type": "execute_result"
    }
   ],
   "source": [
    "Y_"
   ]
  },
  {
   "cell_type": "code",
   "execution_count": 179,
   "id": "c0298600",
   "metadata": {},
   "outputs": [
    {
     "name": "stdout",
     "output_type": "stream",
     "text": [
      "Model Accuracy 88.0%\n"
     ]
    }
   ],
   "source": [
    "accuracy = np.sum(Y_ == y)/y.shape[0]*100\n",
    "print(\"Model Accuracy {}%\".format(accuracy))"
   ]
  },
  {
   "cell_type": "code",
   "execution_count": null,
   "id": "163f3ad2",
   "metadata": {},
   "outputs": [],
   "source": []
  },
  {
   "cell_type": "code",
   "execution_count": null,
   "id": "2c028872",
   "metadata": {},
   "outputs": [],
   "source": []
  }
 ],
 "metadata": {
  "kernelspec": {
   "display_name": "Python 3 (ipykernel)",
   "language": "python",
   "name": "python3"
  },
  "language_info": {
   "codemirror_mode": {
    "name": "ipython",
    "version": 3
   },
   "file_extension": ".py",
   "mimetype": "text/x-python",
   "name": "python",
   "nbconvert_exporter": "python",
   "pygments_lexer": "ipython3",
   "version": "3.8.10"
  }
 },
 "nbformat": 4,
 "nbformat_minor": 5
}
