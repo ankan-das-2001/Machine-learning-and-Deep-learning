{
 "cells": [
  {
   "cell_type": "markdown",
   "id": "fad02ede",
   "metadata": {},
   "source": [
    "# Implementing 3 layer neural network architecture\n"
   ]
  },
  {
   "cell_type": "code",
   "execution_count": 1,
   "id": "a0db8f49",
   "metadata": {},
   "outputs": [],
   "source": [
    "import numpy as np"
   ]
  },
  {
   "cell_type": "code",
   "execution_count": 14,
   "id": "2a01ebc4",
   "metadata": {},
   "outputs": [],
   "source": [
    "# Model parameters\n",
    "input_size = 2\n",
    "layers = [4,3]\n",
    "output_size = 2\n",
    "def softmax(a):\n",
    "    e_pa = np.exp(a)\n",
    "    ans = e_pa/np.sum(e_pa, axis=1, keepdims=True)\n",
    "    return ans"
   ]
  },
  {
   "cell_type": "code",
   "execution_count": 20,
   "id": "76f36113",
   "metadata": {},
   "outputs": [],
   "source": [
    "class NeuralNetwork:\n",
    "    def __init__(self, input_size, layers, output_size):\n",
    "        np.random.seed(0)\n",
    "        \n",
    "        model = {}  #dictionary\n",
    "        \n",
    "        model['W1'] = np.random.randn(input_size, layers[0])  # Initialises random weight matrix\n",
    "        model['b1'] = np.zeros((1, layers[0]))\n",
    "        \n",
    "        model['W2'] = np.random.randn(layers[0], layers[1])  # Initialises random weight matrix\n",
    "        model['b2'] = np.zeros((1, layers[1]))\n",
    "        \n",
    "        model['W3'] = np.random.randn(layers[1], output_size)  # Initialises random weight matrix\n",
    "        model['b3'] = np.zeros((1, output_size))\n",
    "        \n",
    "        self.model = model\n",
    "    \n",
    "    \n",
    "    \n",
    "    def forward(self, X):\n",
    "        W1,W2,W3 = self.model['W1'], self.model['W2'], self.model['W3']\n",
    "        b1,b2,b3 = self.model['b1'], self.model['b2'], self.model['b3']\n",
    "        \n",
    "        z1 = np.dot(X, W1) + b1\n",
    "        a1 = np.tanh(z1)\n",
    "        \n",
    "        z2 = np.dot(a1,W2) + b2\n",
    "        a2 = np.tanh(z2)\n",
    "        \n",
    "        z3 = np.dot(a2,W3) + b3\n",
    "        y_ = softmax(z3)\n",
    "        self.activation_outputs = (a1,a2,y_)\n",
    "        \n",
    "    def backward(self, x,y,learning_rate=0.001):\n",
    "        W1,W2,W3 = self.model['W1'], self.model['W2'], self.model['W3']\n",
    "        b1,b2,b3 = self.model['b1'], self.model['b2'], self.model['b3']\n",
    "        a1,a2,y_ = self.activation_outputs\n",
    "        \n",
    "        delta3 = y_ - y\n",
    "        \n",
    "        m = x.shape[0]\n",
    "        dw3 = np.dot(a2.T, delta3)\n",
    "        db3 = np.sum(delta3, axis=0)/float(m)\n",
    "        \n",
    "        delta2 = (1-np.square(a2))*np.dot(delta3, W3.T)\n",
    "        dw2 = np.dot(a1.T, delta2)\n",
    "        db2 = np.sum(dealta,axis=0)/float(m)\n",
    "        \n",
    "        delta1 = (1-np.square(a1))*np.dot(delta2,W2.T)\n",
    "        dw1 = np.dot(X.T, delta1)\n",
    "        db1 = np.sum(delta1, axis = 0)/(float(m))\n",
    "        \n",
    "        #update the model parameters using gradient descent\n",
    "        self.model['W1'] -=learning_rate*dw1\n",
    "        self.model['b1'] -= learning_rate*db1\n",
    "        \n",
    "        self.model['W2'] -=learning_rate*dw2\n",
    "        self.model['b2'] -= learning_rate*db2\n",
    "        \n",
    "        self.model['W3'] -=learning_rate*dw3\n",
    "        self.model['b3'] -= learning_rate*db3\n",
    "        \n",
    "    def predict(self, X):\n",
    "        y_out = self.forward(X)\n",
    "        return np.argmax(y_out, axis = 1)\n",
    "    \n",
    "    def summary(self):\n",
    "        W1,W2,W3 = self.model['W1'], self.model['W2'], self.model['W3']\n",
    "        a1,a2,y_ = self.activation_outputs\n",
    "        \n",
    "        print(\"W1: \", W1.shape)\n",
    "        print(\"A1: \", a1.shape)\n",
    "        \n",
    "        print(\"W2: \", W2.shape)\n",
    "        print(\"A2: \", a2.shape)\n",
    "        \n",
    "        print(\"W3: \", W3.shape)\n",
    "        print(\"Y_: \", y_.shape)\n",
    "        \n"
   ]
  },
  {
   "cell_type": "code",
   "execution_count": 21,
   "id": "520ae53e",
   "metadata": {},
   "outputs": [],
   "source": [
    "def loss(y_oht,p):\n",
    "    l = - np.mean(y_oht*np.log(p))\n",
    "    return l\n",
    "\n",
    "def one_hot(y, depth):\n",
    "    m = y.shape[0]\n",
    "    y_oht = np.zeros((m,depth))\n",
    "    y_oht[np.arrange(m),y] = 1\n",
    "    \n",
    "    return y_oht"
   ]
  },
  {
   "cell_type": "code",
   "execution_count": 22,
   "id": "5d5c2e20",
   "metadata": {},
   "outputs": [],
   "source": [
    "model = NeuralNetwork(input_size=2, layers = [10,5], output_size=2)"
   ]
  },
  {
   "cell_type": "code",
   "execution_count": 23,
   "id": "c865cef9",
   "metadata": {},
   "outputs": [
    {
     "name": "stdout",
     "output_type": "stream",
     "text": [
      "(1000, 2) (1000,)\n"
     ]
    }
   ],
   "source": [
    "from sklearn.datasets import make_blobs, make_moons\n",
    "X, y = make_moons(n_samples=1000, noise = 0.1,random_state = 1)\n",
    "print(X.shape, y.shape)"
   ]
  },
  {
   "cell_type": "code",
   "execution_count": 27,
   "id": "83e8afd2",
   "metadata": {},
   "outputs": [],
   "source": [
    "model.forward(X)"
   ]
  },
  {
   "cell_type": "code",
   "execution_count": 28,
   "id": "f17def17",
   "metadata": {},
   "outputs": [
    {
     "ename": "ValueError",
     "evalue": "operands could not be broadcast together with shapes (1000,2) (1000,) ",
     "output_type": "error",
     "traceback": [
      "\u001b[0;31m---------------------------------------------------------------------------\u001b[0m",
      "\u001b[0;31mValueError\u001b[0m                                Traceback (most recent call last)",
      "Input \u001b[0;32mIn [28]\u001b[0m, in \u001b[0;36m<cell line: 1>\u001b[0;34m()\u001b[0m\n\u001b[0;32m----> 1\u001b[0m \u001b[43mmodel\u001b[49m\u001b[38;5;241;43m.\u001b[39;49m\u001b[43mbackward\u001b[49m\u001b[43m(\u001b[49m\u001b[43mX\u001b[49m\u001b[43m[\u001b[49m\u001b[43m:\u001b[49m\u001b[43m,\u001b[49m\u001b[38;5;241;43m0\u001b[39;49m\u001b[43m]\u001b[49m\u001b[43m,\u001b[49m\u001b[43my\u001b[49m\u001b[43m)\u001b[49m\n",
      "Input \u001b[0;32mIn [20]\u001b[0m, in \u001b[0;36mNeuralNetwork.backward\u001b[0;34m(self, x, y, learning_rate)\u001b[0m\n\u001b[1;32m     36\u001b[0m b1,b2,b3 \u001b[38;5;241m=\u001b[39m \u001b[38;5;28mself\u001b[39m\u001b[38;5;241m.\u001b[39mmodel[\u001b[38;5;124m'\u001b[39m\u001b[38;5;124mb1\u001b[39m\u001b[38;5;124m'\u001b[39m], \u001b[38;5;28mself\u001b[39m\u001b[38;5;241m.\u001b[39mmodel[\u001b[38;5;124m'\u001b[39m\u001b[38;5;124mb2\u001b[39m\u001b[38;5;124m'\u001b[39m], \u001b[38;5;28mself\u001b[39m\u001b[38;5;241m.\u001b[39mmodel[\u001b[38;5;124m'\u001b[39m\u001b[38;5;124mb3\u001b[39m\u001b[38;5;124m'\u001b[39m]\n\u001b[1;32m     37\u001b[0m a1,a2,y_ \u001b[38;5;241m=\u001b[39m \u001b[38;5;28mself\u001b[39m\u001b[38;5;241m.\u001b[39mactivation_outputs\n\u001b[0;32m---> 39\u001b[0m delta3 \u001b[38;5;241m=\u001b[39m \u001b[43my_\u001b[49m\u001b[43m \u001b[49m\u001b[38;5;241;43m-\u001b[39;49m\u001b[43m \u001b[49m\u001b[43my\u001b[49m\n\u001b[1;32m     41\u001b[0m m \u001b[38;5;241m=\u001b[39m x\u001b[38;5;241m.\u001b[39mshape[\u001b[38;5;241m0\u001b[39m]\n\u001b[1;32m     42\u001b[0m dw3 \u001b[38;5;241m=\u001b[39m np\u001b[38;5;241m.\u001b[39mdot(a2\u001b[38;5;241m.\u001b[39mT, delta3)\n",
      "\u001b[0;31mValueError\u001b[0m: operands could not be broadcast together with shapes (1000,2) (1000,) "
     ]
    }
   ],
   "source": [
    "# Wrong neural network built"
   ]
  },
  {
   "cell_type": "code",
   "execution_count": null,
   "id": "05a616a5",
   "metadata": {},
   "outputs": [],
   "source": []
  }
 ],
 "metadata": {
  "kernelspec": {
   "display_name": "Python 3 (ipykernel)",
   "language": "python",
   "name": "python3"
  },
  "language_info": {
   "codemirror_mode": {
    "name": "ipython",
    "version": 3
   },
   "file_extension": ".py",
   "mimetype": "text/x-python",
   "name": "python",
   "nbconvert_exporter": "python",
   "pygments_lexer": "ipython3",
   "version": "3.8.10"
  }
 },
 "nbformat": 4,
 "nbformat_minor": 5
}
