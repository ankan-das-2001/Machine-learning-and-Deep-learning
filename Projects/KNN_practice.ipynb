{
 "cells": [
  {
   "cell_type": "code",
   "execution_count": 26,
   "id": "2613dba3",
   "metadata": {},
   "outputs": [],
   "source": [
    "import pandas as pd\n",
    "import numpy as np\n",
    "import matplotlib.pyplot as plt"
   ]
  },
  {
   "cell_type": "code",
   "execution_count": 35,
   "id": "ebcbb9cc",
   "metadata": {},
   "outputs": [],
   "source": [
    "data = pd.read_csv(\"train.csv\")"
   ]
  },
  {
   "cell_type": "code",
   "execution_count": 36,
   "id": "975dad74",
   "metadata": {},
   "outputs": [
    {
     "data": {
      "text/plain": [
       "pandas.core.frame.DataFrame"
      ]
     },
     "execution_count": 36,
     "metadata": {},
     "output_type": "execute_result"
    }
   ],
   "source": [
    "type(data)"
   ]
  },
  {
   "cell_type": "code",
   "execution_count": 37,
   "id": "cc3a134d",
   "metadata": {},
   "outputs": [
    {
     "data": {
      "text/html": [
       "<div>\n",
       "<style scoped>\n",
       "    .dataframe tbody tr th:only-of-type {\n",
       "        vertical-align: middle;\n",
       "    }\n",
       "\n",
       "    .dataframe tbody tr th {\n",
       "        vertical-align: top;\n",
       "    }\n",
       "\n",
       "    .dataframe thead th {\n",
       "        text-align: right;\n",
       "    }\n",
       "</style>\n",
       "<table border=\"1\" class=\"dataframe\">\n",
       "  <thead>\n",
       "    <tr style=\"text-align: right;\">\n",
       "      <th></th>\n",
       "      <th>Color</th>\n",
       "      <th>weight</th>\n",
       "      <th>Size</th>\n",
       "      <th>Fruit</th>\n",
       "    </tr>\n",
       "  </thead>\n",
       "  <tbody>\n",
       "    <tr>\n",
       "      <th>0</th>\n",
       "      <td>B</td>\n",
       "      <td>100</td>\n",
       "      <td>20</td>\n",
       "      <td>C</td>\n",
       "    </tr>\n",
       "    <tr>\n",
       "      <th>1</th>\n",
       "      <td>G</td>\n",
       "      <td>1000</td>\n",
       "      <td>100</td>\n",
       "      <td>W</td>\n",
       "    </tr>\n",
       "    <tr>\n",
       "      <th>2</th>\n",
       "      <td>B</td>\n",
       "      <td>120</td>\n",
       "      <td>19</td>\n",
       "      <td>C</td>\n",
       "    </tr>\n",
       "    <tr>\n",
       "      <th>3</th>\n",
       "      <td>B</td>\n",
       "      <td>130</td>\n",
       "      <td>18</td>\n",
       "      <td>C</td>\n",
       "    </tr>\n",
       "    <tr>\n",
       "      <th>4</th>\n",
       "      <td>B</td>\n",
       "      <td>140</td>\n",
       "      <td>20</td>\n",
       "      <td>C</td>\n",
       "    </tr>\n",
       "  </tbody>\n",
       "</table>\n",
       "</div>"
      ],
      "text/plain": [
       "  Color  weight  Size Fruit\n",
       "0     B     100    20     C\n",
       "1     G    1000   100     W\n",
       "2     B     120    19     C\n",
       "3     B     130    18     C\n",
       "4     B     140    20     C"
      ]
     },
     "execution_count": 37,
     "metadata": {},
     "output_type": "execute_result"
    }
   ],
   "source": [
    "data.head()   # Shows first 5 data values"
   ]
  },
  {
   "cell_type": "code",
   "execution_count": 38,
   "id": "8c442133",
   "metadata": {},
   "outputs": [
    {
     "data": {
      "text/plain": [
       "(29, 4)"
      ]
     },
     "execution_count": 38,
     "metadata": {},
     "output_type": "execute_result"
    }
   ],
   "source": [
    "data.shape    # specfies the length of the data set rows and columns"
   ]
  },
  {
   "cell_type": "code",
   "execution_count": 39,
   "id": "7726728e",
   "metadata": {
    "scrolled": true
   },
   "outputs": [
    {
     "name": "stdout",
     "output_type": "stream",
     "text": [
      "<class 'pandas.core.frame.DataFrame'>\n",
      "RangeIndex: 29 entries, 0 to 28\n",
      "Data columns (total 4 columns):\n",
      " #   Column  Non-Null Count  Dtype \n",
      "---  ------  --------------  ----- \n",
      " 0   Color   29 non-null     object\n",
      " 1   weight  29 non-null     int64 \n",
      " 2   Size    29 non-null     int64 \n",
      " 3   Fruit   29 non-null     object\n",
      "dtypes: int64(2), object(2)\n",
      "memory usage: 1.0+ KB\n"
     ]
    }
   ],
   "source": [
    "data.info()"
   ]
  },
  {
   "cell_type": "code",
   "execution_count": 40,
   "id": "bfcc5510",
   "metadata": {},
   "outputs": [],
   "source": [
    "data = data.values    # Values will convert pandas dataframe into numpy array\n",
    "\n",
    "X = data[:,1:3]    #processed input data used for making predictions\n",
    "Y = data[:,-1]    #predicted value"
   ]
  },
  {
   "cell_type": "code",
   "execution_count": 41,
   "id": "ae86cb75",
   "metadata": {},
   "outputs": [
    {
     "data": {
      "text/plain": [
       "(29, 2)"
      ]
     },
     "execution_count": 41,
     "metadata": {},
     "output_type": "execute_result"
    }
   ],
   "source": [
    "X.shape"
   ]
  },
  {
   "cell_type": "code",
   "execution_count": 42,
   "id": "b477f7df",
   "metadata": {},
   "outputs": [
    {
     "data": {
      "text/plain": [
       "(29,)"
      ]
     },
     "execution_count": 42,
     "metadata": {},
     "output_type": "execute_result"
    }
   ],
   "source": [
    "Y.shape"
   ]
  },
  {
   "cell_type": "code",
   "execution_count": 43,
   "id": "6fe6303a",
   "metadata": {},
   "outputs": [
    {
     "data": {
      "text/plain": [
       "array([[100, 20],\n",
       "       [1000, 100],\n",
       "       [120, 19],\n",
       "       [130, 18],\n",
       "       [140, 20],\n",
       "       [2000, 101],\n",
       "       [1005, 98],\n",
       "       [100, 21],\n",
       "       [1002, 102],\n",
       "       [100, 15],\n",
       "       [1002, 107],\n",
       "       [1000, 94],\n",
       "       [1000, 96],\n",
       "       [1000, 97],\n",
       "       [1202, 99],\n",
       "       [130, 25],\n",
       "       [109, 24],\n",
       "       [100, 22],\n",
       "       [100, 21],\n",
       "       [1000, 97],\n",
       "       [100, 21],\n",
       "       [1002, 99],\n",
       "       [100, 22],\n",
       "       [1000, 99],\n",
       "       [1012, 100],\n",
       "       [1000, 101],\n",
       "       [120, 25],\n",
       "       [130, 19],\n",
       "       [1401, 96]], dtype=object)"
      ]
     },
     "execution_count": 43,
     "metadata": {},
     "output_type": "execute_result"
    }
   ],
   "source": [
    "X"
   ]
  },
  {
   "cell_type": "code",
   "execution_count": 44,
   "id": "1ca6e946",
   "metadata": {},
   "outputs": [
    {
     "data": {
      "text/plain": [
       "array(['C', 'W', 'C', 'C', 'C', 'W', 'W', 'C', 'W', 'C', 'W', 'W', 'W',\n",
       "       'W', 'W', 'C', 'C', 'C', 'C', 'W', 'C', 'W', 'C', 'W', 'W', 'W',\n",
       "       'C', 'C', 'W'], dtype=object)"
      ]
     },
     "execution_count": 44,
     "metadata": {},
     "output_type": "execute_result"
    }
   ],
   "source": [
    "Y"
   ]
  },
  {
   "cell_type": "code",
   "execution_count": 45,
   "id": "7d42789d",
   "metadata": {},
   "outputs": [],
   "source": [
    "from sklearn.preprocessing import LabelEncoder\n",
    "\n",
    "le = LabelEncoder()   #Calling the constructor of the label encoder\n",
    "Y = le.fit_transform(Y)   #main method called for applying label encoder"
   ]
  },
  {
   "cell_type": "code",
   "execution_count": 46,
   "id": "59a923bd",
   "metadata": {},
   "outputs": [
    {
     "data": {
      "text/plain": [
       "array([0, 1, 0, 0, 0, 1, 1, 0, 1, 0, 1, 1, 1, 1, 1, 0, 0, 0, 0, 1, 0, 1,\n",
       "       0, 1, 1, 1, 0, 0, 1])"
      ]
     },
     "execution_count": 46,
     "metadata": {},
     "output_type": "execute_result"
    }
   ],
   "source": [
    "Y"
   ]
  },
  {
   "cell_type": "code",
   "execution_count": 49,
   "id": "2f632727",
   "metadata": {},
   "outputs": [
    {
     "data": {
      "image/png": "[encoded data removed]",
      "text/plain": [
       "<Figure size 720x720 with 1 Axes>"
      ]
     },
     "metadata": {
      "needs_background": "light"
     },
     "output_type": "display_data"
    }
   ],
   "source": [
    "plt.figure(figsize=(10,10))\n",
    "plt.scatter(X[:,0],X[:,1], c = Y)\n",
    "plt.show()"
   ]
  },
  {
   "cell_type": "code",
   "execution_count": 85,
   "id": "b8c1bbab",
   "metadata": {},
   "outputs": [],
   "source": [
    "def dist(p1,p2):\n",
    "    return ((p1[0]-p2[0])**2 + (p1[1]-p2[1])**2)**0.5"
   ]
  },
  {
   "cell_type": "code",
   "execution_count": 99,
   "id": "65378564",
   "metadata": {},
   "outputs": [],
   "source": [
    "def KNN(X, Y, queryPoint, k=5):\n",
    "    vals = []    #Store all the distances of querypoint from X.\n",
    "    m = X.shape[0]\n",
    "    \n",
    "    for i in range(m):\n",
    "        d = dist(queryPoint, X[i])\n",
    "        vals.append([d,Y[i]])\n",
    "        \n",
    "    vals = sorted(vals)\n",
    "    # Nearest / First k points\n",
    "    nearest_points = vals[:k]\n",
    "    nearest_points = np.array(nearest_points)\n",
    "    new_vals = np.unique(nearest_points[:,1],return_counts=True)\n",
    "    \n",
    "    index = new_vals[1].argmax()\n",
    "    pred = new_vals[0][index]\n",
    "    if pred == 0:\n",
    "        return \"Coconut\"\n",
    "    else:\n",
    "        return \"Watermelon\"\n",
    "    \n",
    "    "
   ]
  },
  {
   "cell_type": "code",
   "execution_count": 120,
   "id": "8763d942",
   "metadata": {},
   "outputs": [],
   "source": [
    "point = [500,100] #Watermelon"
   ]
  },
  {
   "cell_type": "code",
   "execution_count": 121,
   "id": "f6aeebc3",
   "metadata": {},
   "outputs": [
    {
     "data": {
      "text/plain": [
       "'Coconut'"
      ]
     },
     "execution_count": 121,
     "metadata": {},
     "output_type": "execute_result"
    }
   ],
   "source": [
    "KNN(X,Y,point)"
   ]
  },
  {
   "cell_type": "code",
   "execution_count": 123,
   "id": "61e9584e",
   "metadata": {},
   "outputs": [
    {
     "data": {
      "image/png": "[encoded data removed]",
      "text/plain": [
       "<Figure size 360x360 with 1 Axes>"
      ]
     },
     "metadata": {
      "needs_background": "light"
     },
     "output_type": "display_data"
    }
   ],
   "source": [
    "plt.figure(figsize=(5,5))\n",
    "plt.scatter(point[0],point[1])\n",
    "plt.scatter(X[:,0],X[:,1], c = Y)\n",
    "plt.show()"
   ]
  },
  {
   "cell_type": "code",
   "execution_count": null,
   "id": "35c884db",
   "metadata": {},
   "outputs": [],
   "source": [
    "var[0][index]"
   ]
  },
  {
   "cell_type": "code",
   "execution_count": null,
   "id": "b87d9c2e",
   "metadata": {},
   "outputs": [],
   "source": []
  }
 ],
 "metadata": {
  "kernelspec": {
   "display_name": "Python 3 (ipykernel)",
   "language": "python",
   "name": "python3"
  },
  "language_info": {
   "codemirror_mode": {
    "name": "ipython",
    "version": 3
   },
   "file_extension": ".py",
   "mimetype": "text/x-python",
   "name": "python",
   "nbconvert_exporter": "python",
   "pygments_lexer": "ipython3",
   "version": "3.8.10"
  }
 },
 "nbformat": 4,
 "nbformat_minor": 5
}
