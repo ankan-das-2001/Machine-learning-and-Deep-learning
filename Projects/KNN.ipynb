{
 "cells": [
  {
   "cell_type": "code",
   "execution_count": 1,
   "id": "7dfd45fc",
   "metadata": {},
   "outputs": [],
   "source": [
    "import numpy as np\n",
    "import pandas as pd\n",
    "import matplotlib.pyplot as plt"
   ]
  },
  {
   "cell_type": "code",
   "execution_count": 2,
   "id": "e761f781",
   "metadata": {},
   "outputs": [],
   "source": [
    "data = pd.read_csv(\"train.csv\")"
   ]
  },
  {
   "cell_type": "code",
   "execution_count": 3,
   "id": "71b8c4e3",
   "metadata": {},
   "outputs": [],
   "source": [
    "data = data.values"
   ]
  },
  {
   "cell_type": "code",
   "execution_count": 17,
   "id": "2058bab5",
   "metadata": {},
   "outputs": [
    {
     "name": "stdout",
     "output_type": "stream",
     "text": [
      "[[100 20]\n",
      " [1000 100]\n",
      " [120 19]\n",
      " [130 18]\n",
      " [140 20]\n",
      " [2000 101]\n",
      " [1005 98]\n",
      " [100 21]\n",
      " [1002 102]\n",
      " [100 15]\n",
      " [1002 107]\n",
      " [1000 94]\n",
      " [1000 96]\n",
      " [1000 97]\n",
      " [1202 99]\n",
      " [130 25]\n",
      " [109 24]\n",
      " [100 22]\n",
      " [100 21]\n",
      " [1000 97]\n",
      " [100 21]\n",
      " [1002 99]\n",
      " [100 22]\n",
      " [1000 99]\n",
      " [1012 100]\n",
      " [1000 101]\n",
      " [120 25]\n",
      " [130 19]\n",
      " [1401 96]]\n"
     ]
    }
   ],
   "source": [
    "X = data[:,1:3]\n",
    "print(X)"
   ]
  },
  {
   "cell_type": "code",
   "execution_count": 18,
   "id": "849fba12",
   "metadata": {},
   "outputs": [
    {
     "name": "stdout",
     "output_type": "stream",
     "text": [
      "['C' 'W' 'C' 'C' 'C' 'W' 'W' 'C' 'W' 'C' 'W' 'W' 'W' 'W' 'W' 'C' 'C' 'C'\n",
      " 'C' 'W' 'C' 'W' 'C' 'W' 'W' 'W' 'C' 'C' 'W']\n",
      "[0 1 0 0 0 1 1 0 1 0 1 1 1 1 1 0 0 0 0 1 0 1 0 1 1 1 0 0 1]\n"
     ]
    }
   ],
   "source": [
    "y = data[:,3]\n",
    "print(y)\n",
    "from sklearn.preprocessing import LabelEncoder\n",
    "lb = LabelEncoder()\n",
    "y = lb.fit_transform(y)\n",
    "print(y)"
   ]
  },
  {
   "cell_type": "code",
   "execution_count": 19,
   "id": "98ca7bb6",
   "metadata": {},
   "outputs": [
    {
     "data": {
      "text/plain": [
       "(29, 2)"
      ]
     },
     "execution_count": 19,
     "metadata": {},
     "output_type": "execute_result"
    }
   ],
   "source": [
    "X.shape"
   ]
  },
  {
   "cell_type": "code",
   "execution_count": 20,
   "id": "292ed605",
   "metadata": {},
   "outputs": [
    {
     "data": {
      "text/plain": [
       "array([100, 1000, 120, 130, 140, 2000, 1005, 100, 1002, 100, 1002, 1000,\n",
       "       1000, 1000, 1202, 130, 109, 100, 100, 1000, 100, 1002, 100, 1000,\n",
       "       1012, 1000, 120, 130, 1401], dtype=object)"
      ]
     },
     "execution_count": 20,
     "metadata": {},
     "output_type": "execute_result"
    }
   ],
   "source": [
    "X[:,0]"
   ]
  },
  {
   "cell_type": "code",
   "execution_count": 21,
   "id": "371c905f",
   "metadata": {},
   "outputs": [
    {
     "data": {
      "text/plain": [
       "array([[100, 20],\n",
       "       [1000, 100],\n",
       "       [120, 19],\n",
       "       [130, 18],\n",
       "       [140, 20],\n",
       "       [2000, 101],\n",
       "       [1005, 98],\n",
       "       [100, 21],\n",
       "       [1002, 102],\n",
       "       [100, 15],\n",
       "       [1002, 107],\n",
       "       [1000, 94],\n",
       "       [1000, 96],\n",
       "       [1000, 97],\n",
       "       [1202, 99],\n",
       "       [130, 25],\n",
       "       [109, 24],\n",
       "       [100, 22],\n",
       "       [100, 21],\n",
       "       [1000, 97],\n",
       "       [100, 21],\n",
       "       [1002, 99],\n",
       "       [100, 22],\n",
       "       [1000, 99],\n",
       "       [1012, 100],\n",
       "       [1000, 101],\n",
       "       [120, 25],\n",
       "       [130, 19],\n",
       "       [1401, 96]], dtype=object)"
      ]
     },
     "execution_count": 21,
     "metadata": {},
     "output_type": "execute_result"
    }
   ],
   "source": [
    "X"
   ]
  },
  {
   "cell_type": "code",
   "execution_count": 25,
   "id": "a55e4361",
   "metadata": {},
   "outputs": [
    {
     "data": {
      "text/plain": [
       "<matplotlib.collections.PathCollection at 0x7f3fbd44d100>"
      ]
     },
     "execution_count": 25,
     "metadata": {},
     "output_type": "execute_result"
    },
    {
     "data": {
      "image/png": "[encoded data removed]",
      "text/plain": [
       "<Figure size 720x720 with 1 Axes>"
      ]
     },
     "metadata": {
      "needs_background": "light"
     },
     "output_type": "display_data"
    }
   ],
   "source": [
    "plt.figure(figsize=(10,10))\n",
    "plt.scatter(X[:,0],X[:,1],c=y)"
   ]
  },
  {
   "cell_type": "code",
   "execution_count": 30,
   "id": "45b7de45",
   "metadata": {},
   "outputs": [],
   "source": [
    "def dist(p1,p2):\n",
    "    return ((p1[0]-p2[0])**2 + (p1[1]-p2[1])**2)**0.5"
   ]
  },
  {
   "cell_type": "code",
   "execution_count": 56,
   "id": "7aa6e1f8",
   "metadata": {},
   "outputs": [],
   "source": [
    "def knn(X,Y,queryPoint,k=5):\n",
    "    \n",
    "    vals = []\n",
    "    m = X.shape[0]\n",
    "    \n",
    "    for i in range(m):\n",
    "        d = dist(queryPoint,X[i])\n",
    "        vals.append((d,Y[i]))\n",
    "        \n",
    "    \n",
    "    vals = sorted(vals)\n",
    "    # Nearest/First K points\n",
    "    vals = vals[:k]\n",
    "    \n",
    "    vals = np.array(vals)\n",
    "    \n",
    "    #print(vals)\n",
    "    new_vals = np.unique(vals[:,1],return_counts=True)\n",
    "    print(new_vals[1])\n",
    "    \n",
    "    index = new_vals[1].argmax()\n",
    "    print(index)\n",
    "    pred = new_vals[0][index]\n",
    "    \n",
    "    return pred"
   ]
  },
  {
   "cell_type": "code",
   "execution_count": 58,
   "id": "6240fabb",
   "metadata": {},
   "outputs": [
    {
     "name": "stdout",
     "output_type": "stream",
     "text": [
      "[5]\n",
      "0\n"
     ]
    },
    {
     "data": {
      "text/plain": [
       "0.0"
      ]
     },
     "execution_count": 58,
     "metadata": {},
     "output_type": "execute_result"
    }
   ],
   "source": [
    "knn(X,y,[500,90])"
   ]
  },
  {
   "cell_type": "code",
   "execution_count": 60,
   "id": "ace89d3c",
   "metadata": {},
   "outputs": [],
   "source": [
    "val = np.unique([0,0,1,1,1], return_counts=True)"
   ]
  },
  {
   "cell_type": "code",
   "execution_count": 61,
   "id": "c95fcaf7",
   "metadata": {},
   "outputs": [
    {
     "data": {
      "text/plain": [
       "(array([0, 1]), array([2, 3]))"
      ]
     },
     "execution_count": 61,
     "metadata": {},
     "output_type": "execute_result"
    }
   ],
   "source": [
    "val"
   ]
  },
  {
   "cell_type": "code",
   "execution_count": 62,
   "id": "2e45ec9f",
   "metadata": {},
   "outputs": [
    {
     "data": {
      "text/plain": [
       "array([0, 1])"
      ]
     },
     "execution_count": 62,
     "metadata": {},
     "output_type": "execute_result"
    }
   ],
   "source": [
    "val[1].argmax()"
   ]
  },
  {
   "cell_type": "code",
   "execution_count": null,
   "id": "4987e40d",
   "metadata": {},
   "outputs": [],
   "source": []
  }
 ],
 "metadata": {
  "kernelspec": {
   "display_name": "Python 3 (ipykernel)",
   "language": "python",
   "name": "python3"
  },
  "language_info": {
   "codemirror_mode": {
    "name": "ipython",
    "version": 3
   },
   "file_extension": ".py",
   "mimetype": "text/x-python",
   "name": "python",
   "nbconvert_exporter": "python",
   "pygments_lexer": "ipython3",
   "version": "3.8.10"
  }
 },
 "nbformat": 4,
 "nbformat_minor": 5
}
