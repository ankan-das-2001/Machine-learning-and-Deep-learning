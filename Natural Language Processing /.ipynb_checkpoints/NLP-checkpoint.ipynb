{
 "cells": [
  {
   "cell_type": "code",
   "execution_count": 5,
   "id": "d68537fd",
   "metadata": {},
   "outputs": [],
   "source": [
    "#!pip install nltk"
   ]
  },
  {
   "cell_type": "code",
   "execution_count": 6,
   "id": "aa5e94a4",
   "metadata": {},
   "outputs": [],
   "source": [
    "import nltk"
   ]
  },
  {
   "cell_type": "code",
   "execution_count": 7,
   "id": "8494c1d5",
   "metadata": {},
   "outputs": [],
   "source": [
    "#nltk.download()"
   ]
  },
  {
   "cell_type": "code",
   "execution_count": 8,
   "id": "292b5887",
   "metadata": {},
   "outputs": [],
   "source": [
    "# corpus - A large collection of text\n",
    "\n",
    "from nltk.corpus import brown"
   ]
  },
  {
   "cell_type": "code",
   "execution_count": 9,
   "id": "60824d63",
   "metadata": {},
   "outputs": [
    {
     "data": {
      "text/plain": [
       "['adventure',\n",
       " 'belles_lettres',\n",
       " 'editorial',\n",
       " 'fiction',\n",
       " 'government',\n",
       " 'hobbies',\n",
       " 'humor',\n",
       " 'learned',\n",
       " 'lore',\n",
       " 'mystery',\n",
       " 'news',\n",
       " 'religion',\n",
       " 'reviews',\n",
       " 'romance',\n",
       " 'science_fiction']"
      ]
     },
     "execution_count": 9,
     "metadata": {},
     "output_type": "execute_result"
    }
   ],
   "source": [
    "brown.categories()"
   ]
  },
  {
   "cell_type": "code",
   "execution_count": 10,
   "id": "c41d2783",
   "metadata": {
    "scrolled": true
   },
   "outputs": [
    {
     "data": {
      "text/plain": [
       "15"
      ]
     },
     "execution_count": 10,
     "metadata": {},
     "output_type": "execute_result"
    }
   ],
   "source": [
    "len(brown.categories())"
   ]
  },
  {
   "cell_type": "code",
   "execution_count": 11,
   "id": "5880bb5f",
   "metadata": {},
   "outputs": [],
   "source": [
    "data = brown.sents(categories='adventure')"
   ]
  },
  {
   "cell_type": "code",
   "execution_count": 12,
   "id": "9df6c831",
   "metadata": {
    "scrolled": true
   },
   "outputs": [
    {
     "data": {
      "text/plain": [
       "4637"
      ]
     },
     "execution_count": 12,
     "metadata": {},
     "output_type": "execute_result"
    }
   ],
   "source": [
    "len(data)"
   ]
  },
  {
   "cell_type": "code",
   "execution_count": 13,
   "id": "e67ad774",
   "metadata": {},
   "outputs": [
    {
     "data": {
      "text/plain": [
       "\"If he had married her , he'd have been asking for trouble .\""
      ]
     },
     "execution_count": 13,
     "metadata": {},
     "output_type": "execute_result"
    }
   ],
   "source": [
    "\" \".join(data[3])"
   ]
  },
  {
   "cell_type": "markdown",
   "id": "090c7106",
   "metadata": {},
   "source": [
    "# Bag of Words Pipeline\n",
    "- Get the data/corpus\n",
    "- Tokenisation, stopward removal\n",
    "- stemming\n",
    "- building a vocab\n",
    "- vectorization\n",
    "- classification"
   ]
  },
  {
   "cell_type": "markdown",
   "id": "dd277c67",
   "metadata": {},
   "source": [
    "# tokenisation and stopward removal"
   ]
  },
  {
   "cell_type": "code",
   "execution_count": 14,
   "id": "845ee4a6",
   "metadata": {},
   "outputs": [],
   "source": [
    "from nltk.tokenize import sent_tokenize, word_tokenize"
   ]
  },
  {
   "cell_type": "code",
   "execution_count": 15,
   "id": "bda9bd83",
   "metadata": {},
   "outputs": [],
   "source": [
    "document = '''It was a very plesant day. The weather was cool and there were light showers. \n",
    "I went to the market to buy some fruits'''\n",
    "\n",
    "sentence = \"Send all the 50 documents related to chapters 1,2,3 at prateek@cb.com\""
   ]
  },
  {
   "cell_type": "code",
   "execution_count": 16,
   "id": "f2bae1bf",
   "metadata": {},
   "outputs": [],
   "source": [
    "sents = sent_tokenize(document)"
   ]
  },
  {
   "cell_type": "code",
   "execution_count": 17,
   "id": "6a0ce092",
   "metadata": {},
   "outputs": [
    {
     "name": "stdout",
     "output_type": "stream",
     "text": [
      "['It was a very plesant day.', 'The weather was cool and there were light showers.', 'I went to the market to buy some fruits']\n"
     ]
    }
   ],
   "source": [
    "print(sents)"
   ]
  },
  {
   "cell_type": "code",
   "execution_count": 18,
   "id": "63a516c8",
   "metadata": {},
   "outputs": [
    {
     "data": {
      "text/plain": [
       "['Send',\n",
       " 'all',\n",
       " 'the',\n",
       " '50',\n",
       " 'documents',\n",
       " 'related',\n",
       " 'to',\n",
       " 'chapters',\n",
       " '1,2,3',\n",
       " 'at',\n",
       " 'prateek@cb.com']"
      ]
     },
     "execution_count": 18,
     "metadata": {},
     "output_type": "execute_result"
    }
   ],
   "source": [
    "sentence.split()"
   ]
  },
  {
   "cell_type": "code",
   "execution_count": 19,
   "id": "8526cd07",
   "metadata": {},
   "outputs": [],
   "source": [
    "words = word_tokenize(sentence)"
   ]
  },
  {
   "cell_type": "code",
   "execution_count": 20,
   "id": "645eb379",
   "metadata": {},
   "outputs": [
    {
     "data": {
      "text/plain": [
       "['Send',\n",
       " 'all',\n",
       " 'the',\n",
       " '50',\n",
       " 'documents',\n",
       " 'related',\n",
       " 'to',\n",
       " 'chapters',\n",
       " '1,2,3',\n",
       " 'at',\n",
       " 'prateek',\n",
       " '@',\n",
       " 'cb.com']"
      ]
     },
     "execution_count": 20,
     "metadata": {},
     "output_type": "execute_result"
    }
   ],
   "source": [
    "words"
   ]
  },
  {
   "cell_type": "markdown",
   "id": "e5fdc473",
   "metadata": {},
   "source": [
    "# stopwards removal"
   ]
  },
  {
   "cell_type": "code",
   "execution_count": 21,
   "id": "61df96de",
   "metadata": {},
   "outputs": [],
   "source": [
    "from nltk.corpus import stopwords\n",
    "\n",
    "sw = set(stopwords.words('english'))"
   ]
  },
  {
   "cell_type": "code",
   "execution_count": 22,
   "id": "473b5841",
   "metadata": {},
   "outputs": [
    {
     "name": "stdout",
     "output_type": "stream",
     "text": [
      "{'then', 'our', 'do', 'which', 'with', 'these', 'in', 'm', 'weren', 'having', 'after', 'out', 'does', 'ours', 'so', 'where', 'this', 'did', 'other', 'isn', 'what', 'the', 'o', \"you've\", \"won't\", 'himself', 'just', 'ain', 'hers', 'his', 'same', 'more', 'has', 'them', 'here', 'while', \"shan't\", 's', 'below', \"aren't\", 'are', 'doesn', 'both', 'against', \"needn't\", 'yourselves', 'herself', 'yourself', 'any', 'were', 'ourselves', 'to', 'very', 'under', 'didn', 'wouldn', 'until', \"that'll\", 'but', 'mustn', 'me', 'don', 'into', 'hadn', 'off', 'have', 'her', 'and', 'been', 'i', 'is', 'some', 'couldn', 'wasn', 'haven', 'can', 'doing', 'will', 'about', 'theirs', 'my', 'before', 'for', 'she', \"wouldn't\", 'ma', 'all', 't', 'a', 'whom', \"haven't\", \"mustn't\", 'no', 'own', 'not', 'they', 'on', 'at', \"didn't\", 'itself', 'during', 'nor', 'd', 'shan', \"you'll\", \"don't\", 'll', \"weren't\", 'once', 'or', \"doesn't\", 'above', 'between', 'it', 'those', 'was', 'from', \"hadn't\", \"mightn't\", 'be', 'up', 'than', 'through', 'an', 'there', 'such', 'should', 'most', 'you', 'had', 'y', 'by', 'if', 'your', \"wasn't\", 'won', 'we', 'aren', \"it's\", 'who', 'being', 'myself', 'only', 'how', 'hasn', 're', 'because', 'that', 'few', 'shouldn', 'over', 'of', \"you're\", 'again', \"isn't\", 'further', \"should've\", \"shouldn't\", 'am', 'its', 'down', 've', 'he', 'mightn', 'needn', \"couldn't\", 'their', \"hasn't\", 'each', 'yours', 'as', 'too', \"she's\", 'why', \"you'd\", 'when', 'now', 'themselves', 'him'}\n"
     ]
    }
   ],
   "source": [
    "print(sw)"
   ]
  },
  {
   "cell_type": "code",
   "execution_count": 23,
   "id": "a2e80106",
   "metadata": {},
   "outputs": [
    {
     "data": {
      "text/plain": [
       "set"
      ]
     },
     "execution_count": 23,
     "metadata": {},
     "output_type": "execute_result"
    }
   ],
   "source": [
    "type(sw)"
   ]
  },
  {
   "cell_type": "code",
   "execution_count": 24,
   "id": "43764ce4",
   "metadata": {},
   "outputs": [],
   "source": [
    "def remove_stopwords(txt, stopword):\n",
    "    useful_words=[]\n",
    "    for w in txt:\n",
    "        if w not in stopword:\n",
    "            useful_words.append(w)\n",
    "    return useful_words"
   ]
  },
  {
   "cell_type": "code",
   "execution_count": 25,
   "id": "e69ee0c4",
   "metadata": {},
   "outputs": [
    {
     "data": {
      "text/plain": [
       "['borthered', 'much']"
      ]
     },
     "execution_count": 25,
     "metadata": {},
     "output_type": "execute_result"
    }
   ],
   "source": [
    "sentence = \"i am not borthered about her very much\".split()\n",
    "remove_stopwords(sentence, sw)"
   ]
  },
  {
   "cell_type": "markdown",
   "id": "4666ff79",
   "metadata": {},
   "source": [
    "# Tokenisation using Regular expression"
   ]
  },
  {
   "cell_type": "code",
   "execution_count": 26,
   "id": "95e2c963",
   "metadata": {},
   "outputs": [],
   "source": [
    "sentance = \"Send all the 50 documents related to chapters 1,2,3 at prateek@cb.com\""
   ]
  },
  {
   "cell_type": "code",
   "execution_count": 27,
   "id": "ab3ae3be",
   "metadata": {},
   "outputs": [],
   "source": [
    "from nltk.tokenize import RegexpTokenizer"
   ]
  },
  {
   "cell_type": "code",
   "execution_count": 28,
   "id": "eb47e4e7",
   "metadata": {},
   "outputs": [],
   "source": [
    "tokenizer = RegexpTokenizer('[a-zA-Z@.]+')"
   ]
  },
  {
   "cell_type": "code",
   "execution_count": 29,
   "id": "59bb6cb5",
   "metadata": {},
   "outputs": [],
   "source": [
    "useful_text = tokenizer.tokenize(sentance)"
   ]
  },
  {
   "cell_type": "code",
   "execution_count": 30,
   "id": "ea7f6f64",
   "metadata": {},
   "outputs": [
    {
     "data": {
      "text/plain": [
       "['Send',\n",
       " 'all',\n",
       " 'the',\n",
       " 'documents',\n",
       " 'related',\n",
       " 'to',\n",
       " 'chapters',\n",
       " 'at',\n",
       " 'prateek@cb.com']"
      ]
     },
     "execution_count": 30,
     "metadata": {},
     "output_type": "execute_result"
    }
   ],
   "source": [
    "useful_text  # Removed all the numbers"
   ]
  },
  {
   "cell_type": "markdown",
   "id": "7d0eaefe",
   "metadata": {},
   "source": [
    "# Website for getting regular expression is \n",
    "-https://www.regexpal.com/"
   ]
  },
  {
   "cell_type": "markdown",
   "id": "dca57a3d",
   "metadata": {},
   "source": [
    "# Stemming\n",
    "- Process that transforms particular words(verbs, plurals) into their radical forms.\n",
    "- Preserves the semantics of the sentance without increasing the number of unique tokens.\n",
    "- Example- jumps,jumping, jumped, jump => jump"
   ]
  },
  {
   "cell_type": "code",
   "execution_count": 31,
   "id": "da1ed82a",
   "metadata": {},
   "outputs": [],
   "source": [
    "text = \"\"\"Foxes love to make jumps. The quick brown fox was seen jumping over the lovely dog from a 6ft high wall.\"\"\""
   ]
  },
  {
   "cell_type": "code",
   "execution_count": 32,
   "id": "c351047d",
   "metadata": {},
   "outputs": [],
   "source": [
    "# Snowball stemmer, Porter, Lancaster Stemmer\n",
    "from nltk.stem.snowball import SnowballStemmer, PorterStemmer\n",
    "from nltk.stem.lancaster import LancasterStemmer\n",
    "\n",
    "ps = PorterStemmer()\n",
    "\n"
   ]
  },
  {
   "cell_type": "code",
   "execution_count": 33,
   "id": "8cc8043b",
   "metadata": {},
   "outputs": [
    {
     "data": {
      "text/plain": [
       "'jump'"
      ]
     },
     "execution_count": 33,
     "metadata": {},
     "output_type": "execute_result"
    }
   ],
   "source": [
    "ps.stem('jumping')"
   ]
  },
  {
   "cell_type": "code",
   "execution_count": 34,
   "id": "05c3943d",
   "metadata": {},
   "outputs": [
    {
     "data": {
      "text/plain": [
       "'jump'"
      ]
     },
     "execution_count": 34,
     "metadata": {},
     "output_type": "execute_result"
    }
   ],
   "source": [
    "ps.stem('jumps')"
   ]
  },
  {
   "cell_type": "code",
   "execution_count": 35,
   "id": "47e71d35",
   "metadata": {},
   "outputs": [
    {
     "data": {
      "text/plain": [
       "'love'"
      ]
     },
     "execution_count": 35,
     "metadata": {},
     "output_type": "execute_result"
    }
   ],
   "source": [
    "ps.stem('lovely')"
   ]
  },
  {
   "cell_type": "code",
   "execution_count": 36,
   "id": "4c38c970",
   "metadata": {},
   "outputs": [
    {
     "data": {
      "text/plain": [
       "'love'"
      ]
     },
     "execution_count": 36,
     "metadata": {},
     "output_type": "execute_result"
    }
   ],
   "source": [
    "#Snowball stemmer\n",
    "ss = SnowballStemmer('english')\n",
    "ss.stem('lovely')"
   ]
  },
  {
   "cell_type": "code",
   "execution_count": 37,
   "id": "e0dc3eb8",
   "metadata": {},
   "outputs": [
    {
     "data": {
      "text/plain": [
       "'cold'"
      ]
     },
     "execution_count": 37,
     "metadata": {},
     "output_type": "execute_result"
    }
   ],
   "source": [
    "ss.stem('colding')"
   ]
  },
  {
   "cell_type": "code",
   "execution_count": 38,
   "id": "fd961403",
   "metadata": {},
   "outputs": [
    {
     "data": {
      "text/plain": [
       "'jumping'"
      ]
     },
     "execution_count": 38,
     "metadata": {},
     "output_type": "execute_result"
    }
   ],
   "source": [
    "# Lemmatisation\n",
    "from nltk.stem import WordNetLemmatizer\n",
    "\n",
    "wn = WordNetLemmatizer()\n",
    "wn.lemmatize('jumping')"
   ]
  },
  {
   "cell_type": "markdown",
   "id": "27a42bd7",
   "metadata": {},
   "source": [
    "# Building a Vocab and vectorization"
   ]
  },
  {
   "cell_type": "code",
   "execution_count": 39,
   "id": "feaa6795",
   "metadata": {},
   "outputs": [],
   "source": [
    "# sample corpus contains 4 document\n",
    "corpus = [\n",
    "    'Indian cricket team will wins World Cup, says Capt. Virat Kohli.',\n",
    "    'We will win next Lok Sabha Elections, says confident Indian PM',\n",
    "    'The nobel laurate won the heart of the people',\n",
    "    'The movie Raazi is an exciting Indian Spy thriller based upon a real story.'\n",
    "]"
   ]
  },
  {
   "cell_type": "code",
   "execution_count": 40,
   "id": "ec701cac",
   "metadata": {},
   "outputs": [],
   "source": [
    "from sklearn.feature_extraction.text import CountVectorizer"
   ]
  },
  {
   "cell_type": "code",
   "execution_count": 41,
   "id": "9800fc17",
   "metadata": {},
   "outputs": [],
   "source": [
    "cv = CountVectorizer()"
   ]
  },
  {
   "cell_type": "code",
   "execution_count": 42,
   "id": "d4c5da38",
   "metadata": {},
   "outputs": [],
   "source": [
    "vectorized_corpus = cv.fit_transform(corpus)"
   ]
  },
  {
   "cell_type": "code",
   "execution_count": 43,
   "id": "784d09e7",
   "metadata": {},
   "outputs": [],
   "source": [
    "vectorized_corpus = vectorized_corpus.toarray()"
   ]
  },
  {
   "cell_type": "code",
   "execution_count": 44,
   "id": "6538c1ae",
   "metadata": {},
   "outputs": [
    {
     "data": {
      "text/plain": [
       "array([[0, 0, 1, 0, 1, 1, 0, 0, 0, 1, 0, 1, 0, 0, 0, 0, 0, 0, 0, 0, 0, 0,\n",
       "        0, 1, 0, 0, 1, 0, 0, 0, 1, 0, 1, 0, 1, 0, 1],\n",
       "       [0, 0, 0, 1, 0, 0, 1, 0, 0, 1, 0, 0, 0, 1, 0, 1, 0, 0, 0, 1, 0, 0,\n",
       "        1, 1, 0, 0, 0, 0, 0, 0, 0, 1, 1, 1, 0, 0, 0],\n",
       "       [0, 0, 0, 0, 0, 0, 0, 0, 1, 0, 0, 0, 1, 0, 0, 0, 1, 1, 1, 0, 0, 0,\n",
       "        0, 0, 0, 0, 0, 3, 0, 0, 0, 0, 0, 0, 0, 1, 0],\n",
       "       [1, 1, 0, 0, 0, 0, 0, 1, 0, 1, 1, 0, 0, 0, 1, 0, 0, 0, 0, 0, 1, 1,\n",
       "        0, 0, 1, 1, 0, 1, 1, 1, 0, 0, 0, 0, 0, 0, 0]])"
      ]
     },
     "execution_count": 44,
     "metadata": {},
     "output_type": "execute_result"
    }
   ],
   "source": [
    "vectorized_corpus"
   ]
  },
  {
   "cell_type": "code",
   "execution_count": 45,
   "id": "530c0576",
   "metadata": {},
   "outputs": [
    {
     "data": {
      "text/plain": [
       "{'indian': 9,\n",
       " 'cricket': 4,\n",
       " 'team': 26,\n",
       " 'will': 32,\n",
       " 'wins': 34,\n",
       " 'world': 36,\n",
       " 'cup': 5,\n",
       " 'says': 23,\n",
       " 'capt': 2,\n",
       " 'virat': 30,\n",
       " 'kohli': 11,\n",
       " 'we': 31,\n",
       " 'win': 33,\n",
       " 'next': 15,\n",
       " 'lok': 13,\n",
       " 'sabha': 22,\n",
       " 'elections': 6,\n",
       " 'confident': 3,\n",
       " 'pm': 19,\n",
       " 'the': 27,\n",
       " 'nobel': 16,\n",
       " 'laurate': 12,\n",
       " 'won': 35,\n",
       " 'heart': 8,\n",
       " 'of': 17,\n",
       " 'people': 18,\n",
       " 'movie': 14,\n",
       " 'raazi': 20,\n",
       " 'is': 10,\n",
       " 'an': 0,\n",
       " 'exciting': 7,\n",
       " 'spy': 24,\n",
       " 'thriller': 28,\n",
       " 'based': 1,\n",
       " 'upon': 29,\n",
       " 'real': 21,\n",
       " 'story': 25}"
      ]
     },
     "execution_count": 45,
     "metadata": {},
     "output_type": "execute_result"
    }
   ],
   "source": [
    "cv.vocabulary_"
   ]
  },
  {
   "cell_type": "code",
   "execution_count": 46,
   "id": "22c69e4c",
   "metadata": {},
   "outputs": [
    {
     "data": {
      "text/plain": [
       "array([[0, 0, 1, 0, 1, 1, 0, 0, 0, 1, 0, 1, 0, 0, 0, 0, 0, 0, 0, 0, 0, 0,\n",
       "        0, 1, 0, 0, 1, 0, 0, 0, 1, 0, 1, 0, 1, 0, 1],\n",
       "       [0, 0, 0, 1, 0, 0, 1, 0, 0, 1, 0, 0, 0, 1, 0, 1, 0, 0, 0, 1, 0, 0,\n",
       "        1, 1, 0, 0, 0, 0, 0, 0, 0, 1, 1, 1, 0, 0, 0],\n",
       "       [0, 0, 0, 0, 0, 0, 0, 0, 1, 0, 0, 0, 1, 0, 0, 0, 1, 1, 1, 0, 0, 0,\n",
       "        0, 0, 0, 0, 0, 3, 0, 0, 0, 0, 0, 0, 0, 1, 0],\n",
       "       [1, 1, 0, 0, 0, 0, 0, 1, 0, 1, 1, 0, 0, 0, 1, 0, 0, 0, 0, 0, 1, 1,\n",
       "        0, 0, 1, 1, 0, 1, 1, 1, 0, 0, 0, 0, 0, 0, 0]])"
      ]
     },
     "execution_count": 46,
     "metadata": {},
     "output_type": "execute_result"
    }
   ],
   "source": [
    "# Reverse Mapping\n",
    "numbers = vectorized_corpus\n",
    "numbers"
   ]
  },
  {
   "cell_type": "code",
   "execution_count": 47,
   "id": "acd772e8",
   "metadata": {},
   "outputs": [],
   "source": [
    "s = cv.inverse_transform(numbers)"
   ]
  },
  {
   "cell_type": "code",
   "execution_count": 48,
   "id": "ba305f1e",
   "metadata": {},
   "outputs": [
    {
     "data": {
      "text/plain": [
       "array(['capt', 'cricket', 'cup', 'indian', 'kohli', 'says', 'team',\n",
       "       'virat', 'will', 'wins', 'world'], dtype='<U9')"
      ]
     },
     "execution_count": 48,
     "metadata": {},
     "output_type": "execute_result"
    }
   ],
   "source": [
    "s[0]"
   ]
  },
  {
   "cell_type": "markdown",
   "id": "20982015",
   "metadata": {},
   "source": [
    "# Tf-idf Normalisation(Term frequency-Inverse Document frequency)\n",
    "- Avoid feature that occur very often, because they contain less information.\n",
    "- Information decreases as the number of occurences increases accross different type of document.\n",
    "- So we define another term-term-document-frequency which associates a weight with every term."
   ]
  },
  {
   "cell_type": "code",
   "execution_count": 49,
   "id": "5ad40071",
   "metadata": {},
   "outputs": [],
   "source": [
    "sent_1 = [\"this is good movie\"]\n",
    "sent_2 = [\"this was good movie\"]\n",
    "sent_3 = [\"this is not good movie\"]\n",
    "\n",
    "corpus = [sent_1,sent_2, sent_3]"
   ]
  },
  {
   "cell_type": "code",
   "execution_count": 50,
   "id": "656b72f9",
   "metadata": {},
   "outputs": [],
   "source": [
    "from sklearn.feature_extraction.text import TfidfVectorizer"
   ]
  },
  {
   "cell_type": "code",
   "execution_count": 51,
   "id": "b776a25d",
   "metadata": {},
   "outputs": [],
   "source": [
    "tfidf = TfidfVectorizer()"
   ]
  },
  {
   "cell_type": "code",
   "execution_count": 55,
   "id": "1f0c5070",
   "metadata": {},
   "outputs": [],
   "source": [
    "vc= tfidf.fit_transform(sent_1).toarray()"
   ]
  },
  {
   "cell_type": "code",
   "execution_count": 56,
   "id": "6e5e1333",
   "metadata": {},
   "outputs": [
    {
     "data": {
      "text/plain": [
       "array([[0.5, 0.5, 0.5, 0.5]])"
      ]
     },
     "execution_count": 56,
     "metadata": {},
     "output_type": "execute_result"
    }
   ],
   "source": [
    "vc"
   ]
  },
  {
   "cell_type": "code",
   "execution_count": 57,
   "id": "a10e2e2b",
   "metadata": {},
   "outputs": [
    {
     "data": {
      "text/plain": [
       "{'this': 3, 'is': 1, 'good': 0, 'movie': 2}"
      ]
     },
     "execution_count": 57,
     "metadata": {},
     "output_type": "execute_result"
    }
   ],
   "source": [
    "tfidf.vocabulary_"
   ]
  },
  {
   "cell_type": "code",
   "execution_count": null,
   "id": "2d0d2f7f",
   "metadata": {},
   "outputs": [],
   "source": []
  }
 ],
 "metadata": {
  "kernelspec": {
   "display_name": "Python 3 (ipykernel)",
   "language": "python",
   "name": "python3"
  },
  "language_info": {
   "codemirror_mode": {
    "name": "ipython",
    "version": 3
   },
   "file_extension": ".py",
   "mimetype": "text/x-python",
   "name": "python",
   "nbconvert_exporter": "python",
   "pygments_lexer": "ipython3",
   "version": "3.8.10"
  }
 },
 "nbformat": 4,
 "nbformat_minor": 5
}
